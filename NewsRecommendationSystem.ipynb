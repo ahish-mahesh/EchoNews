{
 "cells": [
  {
   "cell_type": "code",
   "execution_count": 59,
   "metadata": {},
   "outputs": [
    {
     "name": "stderr",
     "output_type": "stream",
     "text": [
      "[nltk_data] Downloading package stopwords to\n",
      "[nltk_data]     C:\\Users\\ahish\\AppData\\Roaming\\nltk_data...\n",
      "[nltk_data]   Package stopwords is already up-to-date!\n",
      "[nltk_data] Downloading package punkt to\n",
      "[nltk_data]     C:\\Users\\ahish\\AppData\\Roaming\\nltk_data...\n",
      "[nltk_data]   Package punkt is already up-to-date!\n"
     ]
    },
    {
     "data": {
      "text/plain": [
       "True"
      ]
     },
     "execution_count": 59,
     "metadata": {},
     "output_type": "execute_result"
    }
   ],
   "source": [
    "from bs4 import BeautifulSoup\n",
    "import urllib.request,sys,time\n",
    "import requests\n",
    "import pandas as pd\n",
    "import re\n",
    "import string\n",
    "import numpy as np\n",
    "import nltk\n",
    "from math import log10\n",
    "from nltk.stem import WordNetLemmatizer\n",
    "from nltk.tokenize import word_tokenize\n",
    "from sklearn.feature_extraction.text import CountVectorizer\n",
    "nltk.download('stopwords')\n",
    "nltk.download('punkt')"
   ]
  },
  {
   "cell_type": "code",
   "execution_count": 60,
   "metadata": {},
   "outputs": [],
   "source": [
    "#url of the page that we want to Scarpe\n",
    "#+str() is used to convert int datatype of the page no. and concatenate that to a URL for pagination purposes.\n",
    "page = 1\n",
    "url = 'https://www.politifact.com/factchecks/list/?page='+str(page)\n",
    "\n",
    "#Use the browser to get the URL. This is a suspicious command that might blow up."
   ]
  },
  {
   "cell_type": "code",
   "execution_count": 61,
   "metadata": {
    "scrolled": true
   },
   "outputs": [],
   "source": [
    "try:\n",
    "     # this might throw an exception if something goes wrong.\n",
    "        page=requests.get(url)      \n",
    "    # this describes what to do if an exception is thrown \n",
    "except Exception as e:\n",
    "    error_type, error_obj, error_info = sys.exc_info()      \n",
    "    \n",
    "    #print the link that cause the problem\n",
    "    print ('ERROR FOR LINK:',url)\n",
    "    \n",
    "    #print error info and line that threw the exception                          \n",
    "    print (error_type, 'Line:', error_info.tb_lineno)\n",
    "    "
   ]
  },
  {
   "cell_type": "code",
   "execution_count": 62,
   "metadata": {},
   "outputs": [
    {
     "data": {
      "text/plain": [
       "200"
      ]
     },
     "execution_count": 62,
     "metadata": {},
     "output_type": "execute_result"
    }
   ],
   "source": [
    "page.status_code"
   ]
  },
  {
   "cell_type": "code",
   "execution_count": 63,
   "metadata": {},
   "outputs": [
    {
     "name": "stdout",
     "output_type": "stream",
     "text": [
      "Yes, Scarpe it\n",
      "text/html; charset=utf-8\n"
     ]
    }
   ],
   "source": [
    "if \"Politifact\" in page.text:\n",
    "    print(\"Yes, Scarpe it\")\n",
    "\n",
    "print (page.headers.get(\"content-type\", \"unknown\"))"
   ]
  },
  {
   "cell_type": "code",
   "execution_count": 65,
   "metadata": {},
   "outputs": [
    {
     "name": "stdout",
     "output_type": "stream",
     "text": [
      "Processing page 1...\n",
      "Done with page 1!\n"
     ]
    }
   ],
   "source": [
    "# Main logic\n",
    "\n",
    "#Total number of pages of the websites to crawl\n",
    "pagesToGet = 1\n",
    "\n",
    "frame = []\n",
    "upperframe = []\n",
    "\n",
    "for pageNo in range(1,pagesToGet+1):\n",
    "    \n",
    "    url = 'https://www.politifact.com/factchecks/list/?page='+str(pageNo)+'&ruling=true'\n",
    "    \n",
    "    try:\n",
    "        page=requests.get(url)      \n",
    "    except Exception as e:\n",
    "        error_type, error_obj, error_info = sys.exc_info()      \n",
    "\n",
    "        print ('ERROR FOR LINK:',url)\n",
    "\n",
    "        print (error_type, 'Line:', error_info.tb_lineno)\n",
    "        continue\n",
    "    \n",
    "#     time.sleep(2)  \n",
    "    \n",
    "    soup = BeautifulSoup(page.text, \"html.parser\")\n",
    "    links=soup.find_all('li',attrs={'class':'o-listicle__item'})\n",
    "\n",
    "    print(\"Processing page \"+str(pageNo)+\"...\")\n",
    "\n",
    "    #Segregating the contents found in the article\n",
    "    for j in links:\n",
    "#         Statement = j.find(\"div\",attrs={'class':'m-statement__quote'}).text.strip()\n",
    "        Link = \"https://www.politifact.com\"\n",
    "        Link += j.find(\"div\",attrs={'class':'m-statement__quote'}).find('a')['href'].strip()\n",
    "        \n",
    "        try:\n",
    "            page=requests.get(Link)      \n",
    "        except Exception as e:\n",
    "            print(e)\n",
    "        \n",
    "        soup = BeautifulSoup(page.text, \"html.parser\")\n",
    "        Title=soup.find('h2',attrs={'class':'c-title c-title--subline'}).text.strip()\n",
    "        ArticleTemp=soup.find('article',attrs={'class':'m-textblock'})\n",
    "        Article = soup.find_all('p')\n",
    "        fullArticle = []\n",
    "        for i in range(2,len(Article)):\n",
    "            fullArticle.append(Article[i].text.strip())\n",
    "        fullArticle = \" \".join(fullArticle)\n",
    "        \n",
    "        Date = j.find('div',attrs={'class':'m-statement__body'}).find('footer').text.split(\"•\")[1]\n",
    "        Date = Date.replace(\"\\n\", \"\")\n",
    "        Source = j.find('div', attrs={'class':'m-statement__meta'}).find('a').text.strip()\n",
    "#         Label = j.find('div', attrs ={'class':'m-statement__content'}).find('img',attrs={'class':'c-image__original'}).get('alt').strip()\n",
    "        frame.append([Title, fullArticle, Link,Date,Source])\n",
    "    print(\"Done with page \"+str(pageNo)+\"!\")\n",
    "    upperframe.extend(frame)"
   ]
  },
  {
   "cell_type": "code",
   "execution_count": 88,
   "metadata": {},
   "outputs": [
    {
     "data": {
      "text/html": [
       "<div>\n",
       "<style scoped>\n",
       "    .dataframe tbody tr th:only-of-type {\n",
       "        vertical-align: middle;\n",
       "    }\n",
       "\n",
       "    .dataframe tbody tr th {\n",
       "        vertical-align: top;\n",
       "    }\n",
       "\n",
       "    .dataframe thead th {\n",
       "        text-align: right;\n",
       "    }\n",
       "</style>\n",
       "<table border=\"1\" class=\"dataframe\">\n",
       "  <thead>\n",
       "    <tr style=\"text-align: right;\">\n",
       "      <th></th>\n",
       "      <th>Title</th>\n",
       "      <th>Article</th>\n",
       "      <th>Link</th>\n",
       "      <th>Date</th>\n",
       "      <th>Source</th>\n",
       "    </tr>\n",
       "  </thead>\n",
       "  <tbody>\n",
       "    <tr>\n",
       "      <th>0</th>\n",
       "      <td>COVID-19 fatalities in the Rio Grande Valley d...</td>\n",
       "      <td>Health workers prepare to administer a COVID-1...</td>\n",
       "      <td>https://www.politifact.com/factchecks/2020/oct...</td>\n",
       "      <td>October 16, 2020</td>\n",
       "      <td>Vicente Gonzalez</td>\n",
       "    </tr>\n",
       "    <tr>\n",
       "      <th>1</th>\n",
       "      <td>Roy Cooper compares Georgia's COVID-19 numbers...</td>\n",
       "      <td>North Carolina Gov. Roy Cooper speaks during a...</td>\n",
       "      <td>https://www.politifact.com/factchecks/2020/oct...</td>\n",
       "      <td>October 15, 2020</td>\n",
       "      <td>Roy Cooper</td>\n",
       "    </tr>\n",
       "    <tr>\n",
       "      <th>2</th>\n",
       "      <td>Fact-checking Jim Justice on West Virginia’s v...</td>\n",
       "      <td>West Virginia Gov. Jim Justice prepares for a ...</td>\n",
       "      <td>https://www.politifact.com/factchecks/2020/oct...</td>\n",
       "      <td>October 15, 2020</td>\n",
       "      <td>Jim Justice</td>\n",
       "    </tr>\n",
       "    <tr>\n",
       "      <th>3</th>\n",
       "      <td>Yes, Wisconsin legislators haven’t passed a bi...</td>\n",
       "      <td>The Wisconsin Legislature last passed a bill i...</td>\n",
       "      <td>https://www.politifact.com/factchecks/2020/oct...</td>\n",
       "      <td>October 7, 2020</td>\n",
       "      <td>Facebook posts</td>\n",
       "    </tr>\n",
       "    <tr>\n",
       "      <th>4</th>\n",
       "      <td>FBI director warned about white supremacist vi...</td>\n",
       "      <td>Democratic presidential candidate former Vice ...</td>\n",
       "      <td>https://www.politifact.com/factchecks/2020/oct...</td>\n",
       "      <td>October 6, 2020</td>\n",
       "      <td>Joe Biden</td>\n",
       "    </tr>\n",
       "  </tbody>\n",
       "</table>\n",
       "</div>"
      ],
      "text/plain": [
       "                                               Title  \\\n",
       "0  COVID-19 fatalities in the Rio Grande Valley d...   \n",
       "1  Roy Cooper compares Georgia's COVID-19 numbers...   \n",
       "2  Fact-checking Jim Justice on West Virginia’s v...   \n",
       "3  Yes, Wisconsin legislators haven’t passed a bi...   \n",
       "4  FBI director warned about white supremacist vi...   \n",
       "\n",
       "                                             Article  \\\n",
       "0  Health workers prepare to administer a COVID-1...   \n",
       "1  North Carolina Gov. Roy Cooper speaks during a...   \n",
       "2  West Virginia Gov. Jim Justice prepares for a ...   \n",
       "3  The Wisconsin Legislature last passed a bill i...   \n",
       "4  Democratic presidential candidate former Vice ...   \n",
       "\n",
       "                                                Link               Date  \\\n",
       "0  https://www.politifact.com/factchecks/2020/oct...   October 16, 2020   \n",
       "1  https://www.politifact.com/factchecks/2020/oct...   October 15, 2020   \n",
       "2  https://www.politifact.com/factchecks/2020/oct...   October 15, 2020   \n",
       "3  https://www.politifact.com/factchecks/2020/oct...    October 7, 2020   \n",
       "4  https://www.politifact.com/factchecks/2020/oct...    October 6, 2020   \n",
       "\n",
       "             Source  \n",
       "0  Vicente Gonzalez  \n",
       "1        Roy Cooper  \n",
       "2       Jim Justice  \n",
       "3    Facebook posts  \n",
       "4         Joe Biden  "
      ]
     },
     "execution_count": 88,
     "metadata": {},
     "output_type": "execute_result"
    }
   ],
   "source": [
    "data=pd.DataFrame(upperframe, columns=['Title', 'Article', 'Link','Date','Source'])\n",
    "data.head()"
   ]
  },
  {
   "cell_type": "code",
   "execution_count": 89,
   "metadata": {},
   "outputs": [
    {
     "data": {
      "text/plain": [
       "30"
      ]
     },
     "execution_count": 89,
     "metadata": {},
     "output_type": "execute_result"
    }
   ],
   "source": [
    "len(data)"
   ]
  },
  {
   "cell_type": "code",
   "execution_count": 90,
   "metadata": {},
   "outputs": [],
   "source": [
    "def stemming(token):\n",
    "  if (token in set(nltk.corpus.stopwords.words('english'))):\n",
    "    return token\n",
    "  return nltk.stem.PorterStemmer().stem(token)"
   ]
  },
  {
   "cell_type": "code",
   "execution_count": 91,
   "metadata": {},
   "outputs": [],
   "source": [
    "def text_tokenizer(text):\n",
    "  tokens = nltk.word_tokenize(text)\n",
    "  stemmed_tokens = (stemming(token) for token in tokens) #stemming and removing stop words\n",
    "  return list([token for token in stemmed_tokens if token.isalnum()]) #removes tokens that are neither alphabetic characters nor digits"
   ]
  },
  {
   "cell_type": "code",
   "execution_count": 92,
   "metadata": {},
   "outputs": [],
   "source": [
    "corpus = data[\"Article\"].tolist()"
   ]
  },
  {
   "cell_type": "code",
   "execution_count": 93,
   "metadata": {},
   "outputs": [],
   "source": [
    "count_vector = CountVectorizer(stop_words = nltk.word_tokenize(' '.join(nltk.corpus.stopwords.words('english'))), tokenizer = text_tokenizer)\n",
    "tokenized_documents = count_vector.fit_transform(corpus)\n",
    "term_document_matrix = pd.DataFrame(tokenized_documents.toarray(), columns = count_vector.get_feature_names())"
   ]
  },
  {
   "cell_type": "code",
   "execution_count": 94,
   "metadata": {},
   "outputs": [
    {
     "name": "stdout",
     "output_type": "stream",
     "text": [
      "Inverted index\n",
      "            Term  Doc_freq                                      Postings_List\n",
      "0            07         1                                               [11]\n",
      "1             1        13     [2, 3, 4, 5, 7, 9, 11, 15, 16, 18, 23, 24, 26]\n",
      "2            10        14  [2, 3, 6, 8, 9, 10, 12, 13, 15, 17, 18, 23, 24...\n",
      "3           100         5                                [5, 16, 18, 19, 28]\n",
      "4          1038         1                                                [3]\n",
      "...         ...       ...                                                ...\n",
      "2767    younger         1                                                [6]\n",
      "2768      youth         1                                               [29]\n",
      "2769     youtub         4                                   [22, 23, 28, 29]\n",
      "2770       zero         1                                               [19]\n",
      "2771  zuckerman         1                                                [5]\n",
      "\n",
      "[2772 rows x 3 columns]\n"
     ]
    }
   ],
   "source": [
    "cols = sorted(list(term_document_matrix.columns))\n",
    "data = []\n",
    "for col in cols:\n",
    "  l = term_document_matrix[col].loc[term_document_matrix[col]>0].index.to_list()\n",
    "  data.append([col, len(l), l])\n",
    "inverted_index = pd.DataFrame(data ,columns=[\"Term\",\"Doc_freq\",\"Postings_List\"])\n",
    "print(\"Inverted index\\n\",inverted_index)"
   ]
  },
  {
   "cell_type": "code",
   "execution_count": null,
   "metadata": {},
   "outputs": [],
   "source": []
  }
 ],
 "metadata": {
  "kernelspec": {
   "display_name": "Python 3",
   "language": "python",
   "name": "python3"
  },
  "language_info": {
   "codemirror_mode": {
    "name": "ipython",
    "version": 3
   },
   "file_extension": ".py",
   "mimetype": "text/x-python",
   "name": "python",
   "nbconvert_exporter": "python",
   "pygments_lexer": "ipython3",
   "version": "3.7.4"
  }
 },
 "nbformat": 4,
 "nbformat_minor": 2
}
