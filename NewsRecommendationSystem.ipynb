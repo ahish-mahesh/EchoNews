{
 "cells": [
  {
   "cell_type": "code",
   "execution_count": 3,
   "metadata": {},
   "outputs": [],
   "source": [
    "from bs4 import BeautifulSoup\n",
    "import urllib.request,sys,time\n",
    "import requests\n",
    "import pandas as pd"
   ]
  },
  {
   "cell_type": "code",
   "execution_count": 78,
   "metadata": {},
   "outputs": [],
   "source": [
    "#url of the page that we want to Scarpe\n",
    "#+str() is used to convert int datatype of the page no. and concatenate that to a URL for pagination purposes.\n",
    "page = 1\n",
    "url = 'https://www.politifact.com/factchecks/list/?page='+str(page)\n",
    "\n",
    "#Use the browser to get the URL. This is a suspicious command that might blow up."
   ]
  },
  {
   "cell_type": "code",
   "execution_count": 79,
   "metadata": {
    "scrolled": true
   },
   "outputs": [
    {
     "name": "stdout",
     "output_type": "stream",
     "text": [
      "<Response [200]>\n"
     ]
    }
   ],
   "source": [
    "try:\n",
    "     # this might throw an exception if something goes wrong.\n",
    "        page=requests.get(url)      \n",
    "    # this describes what to do if an exception is thrown \n",
    "except Exception as e:\n",
    "    error_type, error_obj, error_info = sys.exc_info()      \n",
    "    \n",
    "    #print the link that cause the problem\n",
    "    print ('ERROR FOR LINK:',url)\n",
    "    \n",
    "    #print error info and line that threw the exception                          \n",
    "    print (error_type, 'Line:', error_info.tb_lineno)\n",
    "    "
   ]
  },
  {
   "cell_type": "code",
   "execution_count": 31,
   "metadata": {},
   "outputs": [
    {
     "data": {
      "text/plain": [
       "200"
      ]
     },
     "execution_count": 31,
     "metadata": {},
     "output_type": "execute_result"
    }
   ],
   "source": [
    "page.status_code"
   ]
  },
  {
   "cell_type": "code",
   "execution_count": 34,
   "metadata": {},
   "outputs": [
    {
     "name": "stdout",
     "output_type": "stream",
     "text": [
      "Yes, Scarpe it\n",
      "text/html; charset=utf-8\n"
     ]
    }
   ],
   "source": [
    "if \"Politifact\" in page.text:\n",
    "    print(\"Yes, Scarpe it\")\n",
    "\n",
    "print (page.headers.get(\"content-type\", \"unknown\"))"
   ]
  },
  {
   "cell_type": "code",
   "execution_count": 99,
   "metadata": {},
   "outputs": [
    {
     "name": "stdout",
     "output_type": "stream",
     "text": [
      "Processing page 1...\n",
      "Processing page 2...\n",
      "Processing page 3...\n",
      "Processing page 4...\n",
      "Processing page 5...\n",
      "Processing page 6...\n",
      "Processing page 7...\n",
      "Processing page 8...\n",
      "Processing page 9...\n",
      "Processing page 10...\n",
      "Processing page 11...\n",
      "Processing page 12...\n",
      "Processing page 13...\n",
      "Processing page 14...\n",
      "Processing page 15...\n",
      "Processing page 16...\n",
      "Processing page 17...\n",
      "Processing page 18...\n",
      "Processing page 19...\n",
      "Processing page 20...\n"
     ]
    }
   ],
   "source": [
    "# Main logic\n",
    "\n",
    "#Total number of pages of the websites to crawl\n",
    "pagesToGet = 20\n",
    "\n",
    "frame = []\n",
    "upperframe = []\n",
    "\n",
    "for pageNo in range(1,pagesToGet+1):\n",
    "    \n",
    "    url = 'https://www.politifact.com/factchecks/list/?page='+str(pageNo)\n",
    "    \n",
    "    try:\n",
    "     # this might throw an exception if something goes wrong.\n",
    "        page=requests.get(url)      \n",
    "    # this describes what to do if an exception is thrown \n",
    "    except Exception as e:\n",
    "        error_type, error_obj, error_info = sys.exc_info()      \n",
    "\n",
    "        #print the link that cause the problem\n",
    "        print ('ERROR FOR LINK:',url)\n",
    "\n",
    "        #print error info and line that threw the exception                          \n",
    "        print (error_type, 'Line:', error_info.tb_lineno)\n",
    "        continue\n",
    "    \n",
    "#     time.sleep(2)  \n",
    "    \n",
    "    soup = BeautifulSoup(page.text, \"html.parser\")\n",
    "    links=soup.find_all('li',attrs={'class':'o-listicle__item'})\n",
    "\n",
    "    print(\"Processing page \"+str(pageNo)+\"...\")\n",
    "\n",
    "    #Segregating the contents found in the article\n",
    "    for j in links:\n",
    "        Statement = j.find(\"div\",attrs={'class':'m-statement__quote'}).text.strip()\n",
    "        Link = \"https://www.politifact.com\"\n",
    "        Link += j.find(\"div\",attrs={'class':'m-statement__quote'}).find('a')['href'].strip()\n",
    "        Date = j.find('div',attrs={'class':'m-statement__body'}).find('footer').text.split(\"•\")[1]\n",
    "        Date = Date.replace(\"\\n\", \"\")\n",
    "        Source = j.find('div', attrs={'class':'m-statement__meta'}).find('a').text.strip()\n",
    "        Label = j.find('div', attrs ={'class':'m-statement__content'}).find('img',attrs={'class':'c-image__original'}).get('alt').strip()\n",
    "        frame.append([Statement,Link,Date,Source,Label])\n",
    "    upperframe.extend(frame)"
   ]
  },
  {
   "cell_type": "code",
   "execution_count": 103,
   "metadata": {},
   "outputs": [
    {
     "data": {
      "text/html": [
       "<div>\n",
       "<style scoped>\n",
       "    .dataframe tbody tr th:only-of-type {\n",
       "        vertical-align: middle;\n",
       "    }\n",
       "\n",
       "    .dataframe tbody tr th {\n",
       "        vertical-align: top;\n",
       "    }\n",
       "\n",
       "    .dataframe thead th {\n",
       "        text-align: right;\n",
       "    }\n",
       "</style>\n",
       "<table border=\"1\" class=\"dataframe\">\n",
       "  <thead>\n",
       "    <tr style=\"text-align: right;\">\n",
       "      <th></th>\n",
       "      <th>Statement</th>\n",
       "      <th>Link</th>\n",
       "      <th>Date</th>\n",
       "      <th>Source</th>\n",
       "      <th>Label</th>\n",
       "    </tr>\n",
       "  </thead>\n",
       "  <tbody>\n",
       "    <tr>\n",
       "      <th>0</th>\n",
       "      <td>Says he “fully funded Missouri K-12 education ...</td>\n",
       "      <td>https://www.politifact.com/factchecks/2020/oct...</td>\n",
       "      <td>October 16, 2020</td>\n",
       "      <td>Caleb Rowden</td>\n",
       "      <td>false</td>\n",
       "    </tr>\n",
       "    <tr>\n",
       "      <th>1</th>\n",
       "      <td>Says the “The Rio Grande Valley is 4.7% of the...</td>\n",
       "      <td>https://www.politifact.com/factchecks/2020/oct...</td>\n",
       "      <td>October 16, 2020</td>\n",
       "      <td>Vicente Gonzalez</td>\n",
       "      <td>true</td>\n",
       "    </tr>\n",
       "    <tr>\n",
       "      <th>2</th>\n",
       "      <td>Says Kanye West got 40,000 votes in the presid...</td>\n",
       "      <td>https://www.politifact.com/factchecks/2020/oct...</td>\n",
       "      <td>October 16, 2020</td>\n",
       "      <td>Instagram posts</td>\n",
       "      <td>false</td>\n",
       "    </tr>\n",
       "    <tr>\n",
       "      <th>3</th>\n",
       "      <td>Says Debbie Mucarsel-Powell's family received ...</td>\n",
       "      <td>https://www.politifact.com/factchecks/2020/oct...</td>\n",
       "      <td>October 16, 2020</td>\n",
       "      <td>Congressional Leadership Fund</td>\n",
       "      <td>half-true</td>\n",
       "    </tr>\n",
       "    <tr>\n",
       "      <th>4</th>\n",
       "      <td>“Jaime Harrison is being left off of South Car...</td>\n",
       "      <td>https://www.politifact.com/factchecks/2020/oct...</td>\n",
       "      <td>October 16, 2020</td>\n",
       "      <td>Facebook posts</td>\n",
       "      <td>false</td>\n",
       "    </tr>\n",
       "  </tbody>\n",
       "</table>\n",
       "</div>"
      ],
      "text/plain": [
       "                                           Statement  \\\n",
       "0  Says he “fully funded Missouri K-12 education ...   \n",
       "1  Says the “The Rio Grande Valley is 4.7% of the...   \n",
       "2  Says Kanye West got 40,000 votes in the presid...   \n",
       "3  Says Debbie Mucarsel-Powell's family received ...   \n",
       "4  “Jaime Harrison is being left off of South Car...   \n",
       "\n",
       "                                                Link               Date  \\\n",
       "0  https://www.politifact.com/factchecks/2020/oct...   October 16, 2020   \n",
       "1  https://www.politifact.com/factchecks/2020/oct...   October 16, 2020   \n",
       "2  https://www.politifact.com/factchecks/2020/oct...   October 16, 2020   \n",
       "3  https://www.politifact.com/factchecks/2020/oct...   October 16, 2020   \n",
       "4  https://www.politifact.com/factchecks/2020/oct...   October 16, 2020   \n",
       "\n",
       "                          Source      Label  \n",
       "0                   Caleb Rowden      false  \n",
       "1               Vicente Gonzalez       true  \n",
       "2                Instagram posts      false  \n",
       "3  Congressional Leadership Fund  half-true  \n",
       "4                 Facebook posts      false  "
      ]
     },
     "execution_count": 103,
     "metadata": {},
     "output_type": "execute_result"
    }
   ],
   "source": [
    "data=pd.DataFrame(upperframe, columns=['Statement','Link','Date','Source','Label'])\n",
    "data.head()"
   ]
  },
  {
   "cell_type": "code",
   "execution_count": 104,
   "metadata": {},
   "outputs": [
    {
     "data": {
      "text/plain": [
       "6300"
      ]
     },
     "execution_count": 104,
     "metadata": {},
     "output_type": "execute_result"
    }
   ],
   "source": [
    "len(data)"
   ]
  }
 ],
 "metadata": {
  "kernelspec": {
   "display_name": "Python 3",
   "language": "python",
   "name": "python3"
  },
  "language_info": {
   "codemirror_mode": {
    "name": "ipython",
    "version": 3
   },
   "file_extension": ".py",
   "mimetype": "text/x-python",
   "name": "python",
   "nbconvert_exporter": "python",
   "pygments_lexer": "ipython3",
   "version": "3.7.4"
  }
 },
 "nbformat": 4,
 "nbformat_minor": 2
}
